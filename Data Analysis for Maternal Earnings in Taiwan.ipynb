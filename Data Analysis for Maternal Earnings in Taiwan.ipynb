{
 "cells": [
  {
   "cell_type": "markdown",
   "metadata": {},
   "source": [
    "## Data Analysis for Maternal Earnings in Taiwan\n",
    "\n",
    "In this notebook, I am going to show the descriptive statistics for the Panel Study of Family Dynamics (PSFD) dataset, the datasett I analyzed in my M.A. thesis.\n",
    "The collection of PSFD was conducted by Academia Sinica, the national research institute affiliated to the central government of Taiwan (R.O.C.). PSFD includes survey data from 1999 to 2014, except for 2013. It is a national survey that asks questions about respondents' monthly salary, martial status, parental status, and so on. There were 14 different datasets from each year(survey) and I combined them together. \n",
    "\n",
    "For the purpose of my research, I select only employed married or formerly married women. I won't talk more about my methodology here since this notebook is a simple exploration of this dataset. Please consult to the part of Data of my [thesis](https://drive.google.com/drive/u/1/folders/1ry7a_gcNZKDtYvbG6dRQAe39G53iu0Ft). \n",
    "\n",
    "Let's begin!"
   ]
  },
  {
   "cell_type": "markdown",
   "metadata": {},
   "source": [
    "### Descriptive Statistics"
   ]
  },
  {
   "cell_type": "code",
   "execution_count": 6,
   "metadata": {},
   "outputs": [],
   "source": [
    "import numpy as np\n",
    "import pandas as pd\n",
    "import matplotlib.pyplot as plt\n",
    "%matplotlib inline"
   ]
  },
  {
   "cell_type": "code",
   "execution_count": 7,
   "metadata": {},
   "outputs": [
    {
     "name": "stdout",
     "output_type": "stream",
     "text": [
      "      id    year  workhour   income  seniority1  marital  female   age  \\\n",
      "0  10040  1999.0      40.0  24000.0         3.0      3.0     1.0  41.0   \n",
      "1  10040  2000.0      35.0  27000.0         3.0      3.0     1.0  42.0   \n",
      "2  10040  2001.0      38.0  27000.0         4.0      3.0     1.0  43.0   \n",
      "3  10040  2004.0      40.0  18300.0         1.0      3.0     1.0  46.0   \n",
      "4  10040  2005.0      44.0  18000.0         2.0      3.0     1.0  47.0   \n",
      "5  10040  2006.0      66.0  37500.0         3.0      5.0     1.0  48.0   \n",
      "6  10040  2007.0      44.0  17667.0         3.0      5.0     1.0  49.0   \n",
      "7  10040  2008.0      44.0  18750.0         4.0      5.0     1.0  50.0   \n",
      "8  10040  2009.0      46.0  13000.0         0.0      5.0     1.0  51.0   \n",
      "9  10040  2010.0      44.0  18000.0         6.0      5.0     1.0  52.0   \n",
      "\n",
      "   agechild1  agechild2    ...     _est_FE_d   _pscore  _treated  _support  \\\n",
      "0       16.0       12.0    ...             1  0.960313       1.0       1.0   \n",
      "1       17.0       13.0    ...             1  0.965694       1.0       1.0   \n",
      "2       18.0       14.0    ...             1  0.970678       1.0       1.0   \n",
      "3       21.0       17.0    ...             1  0.982797       1.0       1.0   \n",
      "4       22.0       18.0    ...             1  0.985592       1.0       1.0   \n",
      "5       23.0       19.0    ...             1  0.988450       1.0       1.0   \n",
      "6       24.0       20.0    ...             1  0.989850       1.0       1.0   \n",
      "7       25.0       21.0    ...             1  0.991533       1.0       1.0   \n",
      "8       26.0       22.0    ...             1  0.992999       1.0       1.0   \n",
      "9       27.0       23.0    ...             1  0.994180       1.0       1.0   \n",
      "\n",
      "   _weight  _lnearnings     _id    _n1  _nn     _pdif  \n",
      "0      1.0    10.491274  2865.0  568.0  1.0  0.000625  \n",
      "1      1.0    10.463103  2981.0  572.0  1.0  0.000369  \n",
      "2      1.0    10.434115  3099.0  576.0  1.0  0.000607  \n",
      "3      1.0    10.491274  3491.0  586.0  1.0  0.001378  \n",
      "4      1.0    11.156251  3599.0  588.0  1.0  0.000573  \n",
      "5      1.0    11.156251  3720.0  591.0  1.0  0.000074  \n",
      "6      1.0    10.126631  3798.0  594.0  1.0  0.000221  \n",
      "7      1.0    10.308952  3900.0  597.0  1.0  0.000188  \n",
      "8      1.0     9.798127  4010.0  600.0  1.0  0.000250  \n",
      "9      1.0     9.998797  4106.0  602.0  1.0  0.000135  \n",
      "\n",
      "[10 rows x 109 columns]\n"
     ]
    }
   ],
   "source": [
    "#import the Stata data file\n",
    "\n",
    "data = pd.read_csv('/Users/Sumin/Desktop/R/R_0630.csv')\n",
    "print(data.head(10))"
   ]
  },
  {
   "cell_type": "markdown",
   "metadata": {},
   "source": [
    "Now, data looks messy and contains a lot of information that I don't need in my thesis. Messy data is just the way life is. I am joking (But it actually really is).\n",
    "\n",
    "I am going to select variables I use in my thesis, which is monthly salary, marital status, parental status, age, education level, seniority, and working hours."
   ]
  },
  {
   "cell_type": "code",
   "execution_count": 8,
   "metadata": {},
   "outputs": [
    {
     "name": "stdout",
     "output_type": "stream",
     "text": [
      "      id    year  lnearnings  marital_status  parental_status   age  educ  \\\n",
      "0  10040  1999.0   10.085809             0.0              1.0  41.0   3.0   \n",
      "1  10040  2000.0   10.203592             0.0              1.0  42.0   3.0   \n",
      "2  10040  2001.0   10.203592             0.0              1.0  43.0   3.0   \n",
      "3  10040  2004.0    9.814656             0.0              1.0  46.0   3.0   \n",
      "4  10040  2005.0    9.798127             0.0              2.0  47.0   3.0   \n",
      "5  10040  2006.0   10.532096             1.0              2.0  48.0   3.0   \n",
      "6  10040  2007.0    9.779454             1.0              2.0  49.0   3.0   \n",
      "7  10040  2008.0    9.838949             1.0              2.0  50.0   3.0   \n",
      "8  10040  2009.0    9.472705             1.0              2.0  51.0   3.0   \n",
      "9  10040  2010.0    9.798127             1.0              2.0  52.0   3.0   \n",
      "\n",
      "   seniority  workhour  \n",
      "0        3.0      40.0  \n",
      "1        3.0      35.0  \n",
      "2        4.0      38.0  \n",
      "3        1.0      40.0  \n",
      "4        2.0      44.0  \n",
      "5        3.0      66.0  \n",
      "6        4.0      44.0  \n",
      "7        5.0      44.0  \n",
      "8        6.0      46.0  \n",
      "9        7.0      44.0  \n"
     ]
    }
   ],
   "source": [
    "#select columns\n",
    "data = data.loc[:, ['id','year','lnearnings', 'm2', 'child_status', 'age', 'educ', 'seniority', 'workhour']].dropna()\n",
    "\n",
    "#rename columns\n",
    "data.rename(columns = {'m2':'marital_status', 'child_status':'parental_status'}, inplace = True)\n",
    "\n",
    "print(data.head(10))"
   ]
  },
  {
   "cell_type": "code",
   "execution_count": 9,
   "metadata": {},
   "outputs": [
    {
     "name": "stdout",
     "output_type": "stream",
     "text": [
      "(5856, 9)\n"
     ]
    }
   ],
   "source": [
    "print(data.shape)"
   ]
  },
  {
   "cell_type": "markdown",
   "metadata": {},
   "source": [
    "PSFD is a panel dataset, which means that one women will have multiple data points from different years. Panel data in social science field is preferred since it can help us increase the statistical power to do casual inference. For instance, if I want to know whether one women's earning drop after she has child, panel data can help me compare what she earns before and after the child or children were born.\n",
    "\n",
    "Now, I have 5856 person/years in the dataset (Note: not 5856 women). I am going to explore this dataset more."
   ]
  },
  {
   "cell_type": "code",
   "execution_count": 10,
   "metadata": {},
   "outputs": [
    {
     "data": {
      "text/html": [
       "<div>\n",
       "<style scoped>\n",
       "    .dataframe tbody tr th:only-of-type {\n",
       "        vertical-align: middle;\n",
       "    }\n",
       "\n",
       "    .dataframe tbody tr th {\n",
       "        vertical-align: top;\n",
       "    }\n",
       "\n",
       "    .dataframe thead th {\n",
       "        text-align: right;\n",
       "    }\n",
       "</style>\n",
       "<table border=\"1\" class=\"dataframe\">\n",
       "  <thead>\n",
       "    <tr style=\"text-align: right;\">\n",
       "      <th></th>\n",
       "      <th>id</th>\n",
       "      <th>year</th>\n",
       "      <th>lnearnings</th>\n",
       "      <th>marital_status</th>\n",
       "      <th>parental_status</th>\n",
       "      <th>age</th>\n",
       "      <th>educ</th>\n",
       "      <th>seniority</th>\n",
       "      <th>workhour</th>\n",
       "    </tr>\n",
       "  </thead>\n",
       "  <tbody>\n",
       "    <tr>\n",
       "      <th>count</th>\n",
       "      <td>5.856000e+03</td>\n",
       "      <td>5856.000000</td>\n",
       "      <td>5856.000000</td>\n",
       "      <td>5856.000000</td>\n",
       "      <td>5856.000000</td>\n",
       "      <td>5856.00000</td>\n",
       "      <td>5856.000000</td>\n",
       "      <td>5856.000000</td>\n",
       "      <td>5856.000000</td>\n",
       "    </tr>\n",
       "    <tr>\n",
       "      <th>mean</th>\n",
       "      <td>4.718515e+06</td>\n",
       "      <td>2006.445867</td>\n",
       "      <td>10.228686</td>\n",
       "      <td>0.118682</td>\n",
       "      <td>1.285690</td>\n",
       "      <td>43.09375</td>\n",
       "      <td>3.011783</td>\n",
       "      <td>10.548497</td>\n",
       "      <td>45.140198</td>\n",
       "    </tr>\n",
       "    <tr>\n",
       "      <th>std</th>\n",
       "      <td>2.963114e+06</td>\n",
       "      <td>4.772338</td>\n",
       "      <td>0.690562</td>\n",
       "      <td>0.323441</td>\n",
       "      <td>0.641976</td>\n",
       "      <td>10.11920</td>\n",
       "      <td>1.502869</td>\n",
       "      <td>8.858911</td>\n",
       "      <td>14.432480</td>\n",
       "    </tr>\n",
       "    <tr>\n",
       "      <th>min</th>\n",
       "      <td>1.004000e+04</td>\n",
       "      <td>1999.000000</td>\n",
       "      <td>5.192957</td>\n",
       "      <td>0.000000</td>\n",
       "      <td>0.000000</td>\n",
       "      <td>25.00000</td>\n",
       "      <td>0.000000</td>\n",
       "      <td>0.500000</td>\n",
       "      <td>1.000000</td>\n",
       "    </tr>\n",
       "    <tr>\n",
       "      <th>25%</th>\n",
       "      <td>2.110281e+06</td>\n",
       "      <td>2002.000000</td>\n",
       "      <td>9.903487</td>\n",
       "      <td>0.000000</td>\n",
       "      <td>1.000000</td>\n",
       "      <td>33.00000</td>\n",
       "      <td>2.000000</td>\n",
       "      <td>4.000000</td>\n",
       "      <td>40.000000</td>\n",
       "    </tr>\n",
       "    <tr>\n",
       "      <th>50%</th>\n",
       "      <td>4.140276e+06</td>\n",
       "      <td>2006.000000</td>\n",
       "      <td>10.251200</td>\n",
       "      <td>0.000000</td>\n",
       "      <td>1.000000</td>\n",
       "      <td>44.00000</td>\n",
       "      <td>3.000000</td>\n",
       "      <td>8.000000</td>\n",
       "      <td>44.000000</td>\n",
       "    </tr>\n",
       "    <tr>\n",
       "      <th>75%</th>\n",
       "      <td>7.210230e+06</td>\n",
       "      <td>2011.000000</td>\n",
       "      <td>10.621327</td>\n",
       "      <td>0.000000</td>\n",
       "      <td>2.000000</td>\n",
       "      <td>51.00000</td>\n",
       "      <td>4.000000</td>\n",
       "      <td>15.000000</td>\n",
       "      <td>50.000000</td>\n",
       "    </tr>\n",
       "    <tr>\n",
       "      <th>max</th>\n",
       "      <td>9.733620e+06</td>\n",
       "      <td>2014.000000</td>\n",
       "      <td>13.815511</td>\n",
       "      <td>1.000000</td>\n",
       "      <td>2.000000</td>\n",
       "      <td>73.00000</td>\n",
       "      <td>5.000000</td>\n",
       "      <td>51.000000</td>\n",
       "      <td>90.000000</td>\n",
       "    </tr>\n",
       "  </tbody>\n",
       "</table>\n",
       "</div>"
      ],
      "text/plain": [
       "                 id         year   lnearnings  marital_status  \\\n",
       "count  5.856000e+03  5856.000000  5856.000000     5856.000000   \n",
       "mean   4.718515e+06  2006.445867    10.228686        0.118682   \n",
       "std    2.963114e+06     4.772338     0.690562        0.323441   \n",
       "min    1.004000e+04  1999.000000     5.192957        0.000000   \n",
       "25%    2.110281e+06  2002.000000     9.903487        0.000000   \n",
       "50%    4.140276e+06  2006.000000    10.251200        0.000000   \n",
       "75%    7.210230e+06  2011.000000    10.621327        0.000000   \n",
       "max    9.733620e+06  2014.000000    13.815511        1.000000   \n",
       "\n",
       "       parental_status         age         educ    seniority     workhour  \n",
       "count      5856.000000  5856.00000  5856.000000  5856.000000  5856.000000  \n",
       "mean          1.285690    43.09375     3.011783    10.548497    45.140198  \n",
       "std           0.641976    10.11920     1.502869     8.858911    14.432480  \n",
       "min           0.000000    25.00000     0.000000     0.500000     1.000000  \n",
       "25%           1.000000    33.00000     2.000000     4.000000    40.000000  \n",
       "50%           1.000000    44.00000     3.000000     8.000000    44.000000  \n",
       "75%           2.000000    51.00000     4.000000    15.000000    50.000000  \n",
       "max           2.000000    73.00000     5.000000    51.000000    90.000000  "
      ]
     },
     "execution_count": 10,
     "metadata": {},
     "output_type": "execute_result"
    }
   ],
   "source": [
    "data.describe()"
   ]
  },
  {
   "cell_type": "markdown",
   "metadata": {},
   "source": [
    "We can see that the average for continuous variables: age is 43, seniority is around 10.5 years, and working hours is around 45 hrs per week. Don't get surprised by high working hours. Taiwanese people work overtime ALL THE TIME. Hmm, pretty scary.\n",
    "\n",
    "Binary/Ordinal variables:\n",
    "  - For marital status, 0 = married, and 1 = previously married. \n",
    "  - For parental status, 0 means no child, 1 means women have a least one young child (under 18 years old), and 2 means women's child/children are all adult(s) (18 years old and above). \n",
    "    These three categories are mutually exclusive and collective exhaustive.  \n",
    "    \n",
    "    \n",
    "Next, I am going to explore my independent and dependent variables."
   ]
  },
  {
   "cell_type": "markdown",
   "metadata": {},
   "source": [
    "Dependent Variable/Target: Log Earnings; Independent Variable/Predictor: Marital and Parental Status\n",
    "\n",
    "Log Earnings is a continuous variable demonstrating the log monthly earnings (New Taiwan Dollars) in the dataset."
   ]
  },
  {
   "cell_type": "code",
   "execution_count": 11,
   "metadata": {},
   "outputs": [
    {
     "data": {
      "image/png": "[encoded data removed]",
      "text/plain": [
       "<Figure size 432x288 with 1 Axes>"
      ]
     },
     "metadata": {},
     "output_type": "display_data"
    }
   ],
   "source": [
    "import seaborn as sns\n",
    "sns.set(style=\"white\", color_codes=True)\n",
    "\n",
    "sns.distplot(data['lnearnings'], color = '#1f78b4')\n",
    "plt.xlabel('Log Earnings')\n",
    "plt.ylabel('Frequency')\n",
    "plt.title('Log Earnings')\n",
    "plt.show()"
   ]
  },
  {
   "cell_type": "markdown",
   "metadata": {},
   "source": [
    "It looks like normally distributed!\n",
    "\n",
    "Let's interact log earnings with independent variables (predictors)."
   ]
  },
  {
   "cell_type": "code",
   "execution_count": 12,
   "metadata": {},
   "outputs": [
    {
     "data": {
      "text/html": [
       "<div>\n",
       "<style scoped>\n",
       "    .dataframe tbody tr th:only-of-type {\n",
       "        vertical-align: middle;\n",
       "    }\n",
       "\n",
       "    .dataframe tbody tr th {\n",
       "        vertical-align: top;\n",
       "    }\n",
       "\n",
       "    .dataframe thead tr th {\n",
       "        text-align: left;\n",
       "    }\n",
       "\n",
       "    .dataframe thead tr:last-of-type th {\n",
       "        text-align: right;\n",
       "    }\n",
       "</style>\n",
       "<table border=\"1\" class=\"dataframe\">\n",
       "  <thead>\n",
       "    <tr>\n",
       "      <th></th>\n",
       "      <th colspan=\"8\" halign=\"left\">lnearnings</th>\n",
       "    </tr>\n",
       "    <tr>\n",
       "      <th></th>\n",
       "      <th>count</th>\n",
       "      <th>mean</th>\n",
       "      <th>std</th>\n",
       "      <th>min</th>\n",
       "      <th>25%</th>\n",
       "      <th>50%</th>\n",
       "      <th>75%</th>\n",
       "      <th>max</th>\n",
       "    </tr>\n",
       "    <tr>\n",
       "      <th>marital_status</th>\n",
       "      <th></th>\n",
       "      <th></th>\n",
       "      <th></th>\n",
       "      <th></th>\n",
       "      <th></th>\n",
       "      <th></th>\n",
       "      <th></th>\n",
       "      <th></th>\n",
       "    </tr>\n",
       "  </thead>\n",
       "  <tbody>\n",
       "    <tr>\n",
       "      <th>0.0</th>\n",
       "      <td>5161.0</td>\n",
       "      <td>10.242229</td>\n",
       "      <td>0.68019</td>\n",
       "      <td>5.192957</td>\n",
       "      <td>9.903487</td>\n",
       "      <td>10.308952</td>\n",
       "      <td>10.645425</td>\n",
       "      <td>13.815511</td>\n",
       "    </tr>\n",
       "    <tr>\n",
       "      <th>1.0</th>\n",
       "      <td>695.0</td>\n",
       "      <td>10.128114</td>\n",
       "      <td>0.75616</td>\n",
       "      <td>6.033086</td>\n",
       "      <td>9.711116</td>\n",
       "      <td>10.126631</td>\n",
       "      <td>10.588227</td>\n",
       "      <td>13.592367</td>\n",
       "    </tr>\n",
       "  </tbody>\n",
       "</table>\n",
       "</div>"
      ],
      "text/plain": [
       "               lnearnings                                                     \\\n",
       "                    count       mean      std       min       25%        50%   \n",
       "marital_status                                                                 \n",
       "0.0                5161.0  10.242229  0.68019  5.192957  9.903487  10.308952   \n",
       "1.0                 695.0  10.128114  0.75616  6.033086  9.711116  10.126631   \n",
       "\n",
       "                                      \n",
       "                      75%        max  \n",
       "marital_status                        \n",
       "0.0             10.645425  13.815511  \n",
       "1.0             10.588227  13.592367  "
      ]
     },
     "execution_count": 12,
     "metadata": {},
     "output_type": "execute_result"
    }
   ],
   "source": [
    "data[['marital_status','lnearnings']].groupby(['marital_status']).describe()"
   ]
  },
  {
   "cell_type": "code",
   "execution_count": 13,
   "metadata": {},
   "outputs": [
    {
     "data": {
      "text/plain": [
       "<matplotlib.axes._subplots.AxesSubplot at 0x112163128>"
      ]
     },
     "execution_count": 13,
     "metadata": {},
     "output_type": "execute_result"
    },
    {
     "data": {
      "image/png": "[encoded data removed]",
      "text/plain": [
       "<Figure size 432x288 with 1 Axes>"
      ]
     },
     "metadata": {},
     "output_type": "display_data"
    }
   ],
   "source": [
    "sns.boxplot(x=\"marital_status\", y=\"lnearnings\", data=data,\n",
    "            whis=\"range\", palette=\"vlag\")"
   ]
  },
  {
   "cell_type": "markdown",
   "metadata": {},
   "source": [
    "It is obvious that there are WAY MORE married women than previously married women in the dataset.\n",
    "According to the mean, married women earn more than previously married women. However, the box plot shows that the range of previously married women is smaller than married women."
   ]
  },
  {
   "cell_type": "code",
   "execution_count": 14,
   "metadata": {},
   "outputs": [
    {
     "data": {
      "text/html": [
       "<div>\n",
       "<style scoped>\n",
       "    .dataframe tbody tr th:only-of-type {\n",
       "        vertical-align: middle;\n",
       "    }\n",
       "\n",
       "    .dataframe tbody tr th {\n",
       "        vertical-align: top;\n",
       "    }\n",
       "\n",
       "    .dataframe thead tr th {\n",
       "        text-align: left;\n",
       "    }\n",
       "\n",
       "    .dataframe thead tr:last-of-type th {\n",
       "        text-align: right;\n",
       "    }\n",
       "</style>\n",
       "<table border=\"1\" class=\"dataframe\">\n",
       "  <thead>\n",
       "    <tr>\n",
       "      <th></th>\n",
       "      <th colspan=\"8\" halign=\"left\">lnearnings</th>\n",
       "    </tr>\n",
       "    <tr>\n",
       "      <th></th>\n",
       "      <th>count</th>\n",
       "      <th>mean</th>\n",
       "      <th>std</th>\n",
       "      <th>min</th>\n",
       "      <th>25%</th>\n",
       "      <th>50%</th>\n",
       "      <th>75%</th>\n",
       "      <th>max</th>\n",
       "    </tr>\n",
       "    <tr>\n",
       "      <th>parental_status</th>\n",
       "      <th></th>\n",
       "      <th></th>\n",
       "      <th></th>\n",
       "      <th></th>\n",
       "      <th></th>\n",
       "      <th></th>\n",
       "      <th></th>\n",
       "      <th></th>\n",
       "    </tr>\n",
       "  </thead>\n",
       "  <tbody>\n",
       "    <tr>\n",
       "      <th>0.0</th>\n",
       "      <td>609.0</td>\n",
       "      <td>10.469252</td>\n",
       "      <td>0.404382</td>\n",
       "      <td>9.210340</td>\n",
       "      <td>10.203592</td>\n",
       "      <td>10.463103</td>\n",
       "      <td>10.736397</td>\n",
       "      <td>12.206073</td>\n",
       "    </tr>\n",
       "    <tr>\n",
       "      <th>1.0</th>\n",
       "      <td>2965.0</td>\n",
       "      <td>10.301547</td>\n",
       "      <td>0.600818</td>\n",
       "      <td>6.907755</td>\n",
       "      <td>9.903487</td>\n",
       "      <td>10.308952</td>\n",
       "      <td>10.698740</td>\n",
       "      <td>13.592367</td>\n",
       "    </tr>\n",
       "    <tr>\n",
       "      <th>2.0</th>\n",
       "      <td>2282.0</td>\n",
       "      <td>10.069816</td>\n",
       "      <td>0.814746</td>\n",
       "      <td>5.192957</td>\n",
       "      <td>9.615806</td>\n",
       "      <td>9.998797</td>\n",
       "      <td>10.491274</td>\n",
       "      <td>13.815511</td>\n",
       "    </tr>\n",
       "  </tbody>\n",
       "</table>\n",
       "</div>"
      ],
      "text/plain": [
       "                lnearnings                                            \\\n",
       "                     count       mean       std       min        25%   \n",
       "parental_status                                                        \n",
       "0.0                  609.0  10.469252  0.404382  9.210340  10.203592   \n",
       "1.0                 2965.0  10.301547  0.600818  6.907755   9.903487   \n",
       "2.0                 2282.0  10.069816  0.814746  5.192957   9.615806   \n",
       "\n",
       "                                                  \n",
       "                       50%        75%        max  \n",
       "parental_status                                   \n",
       "0.0              10.463103  10.736397  12.206073  \n",
       "1.0              10.308952  10.698740  13.592367  \n",
       "2.0               9.998797  10.491274  13.815511  "
      ]
     },
     "execution_count": 14,
     "metadata": {},
     "output_type": "execute_result"
    }
   ],
   "source": [
    "data[['parental_status','lnearnings']].groupby(['parental_status']).describe()"
   ]
  },
  {
   "cell_type": "code",
   "execution_count": 15,
   "metadata": {},
   "outputs": [
    {
     "data": {
      "text/plain": [
       "<matplotlib.axes._subplots.AxesSubplot at 0x112301ba8>"
      ]
     },
     "execution_count": 15,
     "metadata": {},
     "output_type": "execute_result"
    },
    {
     "data": {
      "image/png": "[encoded data removed]",
      "text/plain": [
       "<Figure size 432x288 with 1 Axes>"
      ]
     },
     "metadata": {},
     "output_type": "display_data"
    }
   ],
   "source": [
    "sns.boxplot(x=\"parental_status\", y=\"lnearnings\", data=data,\n",
    "            whis=\"range\", palette=\"vlag\")"
   ]
  },
  {
   "cell_type": "markdown",
   "metadata": {},
   "source": [
    "According to the chart, I only have 609 person/years of non-mothers. The number of the group of at least one young child is similar to the group of women having all adult children. \n",
    "\n",
    "Non-mothers make more money than other two groups, which makes sense since they don't have child responsibilities. Mothers who have at least one young child averagely make higher money than mothers with all adult child(children). This is interesting since mothers may not have as heavy child responsibility as mothers with young child(children) do.\n",
    "\n",
    "The distribution of mothers with all adult child(children) is spreading out."
   ]
  },
  {
   "cell_type": "markdown",
   "metadata": {},
   "source": [
    "Now, you must be curious about the interation of marital and parental status. Guess who earns more?"
   ]
  },
  {
   "cell_type": "code",
   "execution_count": 16,
   "metadata": {},
   "outputs": [
    {
     "data": {
      "text/html": [
       "<div>\n",
       "<style scoped>\n",
       "    .dataframe tbody tr th:only-of-type {\n",
       "        vertical-align: middle;\n",
       "    }\n",
       "\n",
       "    .dataframe tbody tr th {\n",
       "        vertical-align: top;\n",
       "    }\n",
       "\n",
       "    .dataframe thead tr th {\n",
       "        text-align: left;\n",
       "    }\n",
       "\n",
       "    .dataframe thead tr:last-of-type th {\n",
       "        text-align: right;\n",
       "    }\n",
       "</style>\n",
       "<table border=\"1\" class=\"dataframe\">\n",
       "  <thead>\n",
       "    <tr>\n",
       "      <th></th>\n",
       "      <th></th>\n",
       "      <th colspan=\"8\" halign=\"left\">lnearnings</th>\n",
       "    </tr>\n",
       "    <tr>\n",
       "      <th></th>\n",
       "      <th></th>\n",
       "      <th>count</th>\n",
       "      <th>mean</th>\n",
       "      <th>std</th>\n",
       "      <th>min</th>\n",
       "      <th>25%</th>\n",
       "      <th>50%</th>\n",
       "      <th>75%</th>\n",
       "      <th>max</th>\n",
       "    </tr>\n",
       "    <tr>\n",
       "      <th>marital_status</th>\n",
       "      <th>parental_status</th>\n",
       "      <th></th>\n",
       "      <th></th>\n",
       "      <th></th>\n",
       "      <th></th>\n",
       "      <th></th>\n",
       "      <th></th>\n",
       "      <th></th>\n",
       "      <th></th>\n",
       "    </tr>\n",
       "  </thead>\n",
       "  <tbody>\n",
       "    <tr>\n",
       "      <th rowspan=\"3\" valign=\"top\">0.0</th>\n",
       "      <th>0.0</th>\n",
       "      <td>572.0</td>\n",
       "      <td>10.468802</td>\n",
       "      <td>0.400648</td>\n",
       "      <td>9.210340</td>\n",
       "      <td>10.203592</td>\n",
       "      <td>10.463103</td>\n",
       "      <td>10.736397</td>\n",
       "      <td>12.206073</td>\n",
       "    </tr>\n",
       "    <tr>\n",
       "      <th>1.0</th>\n",
       "      <td>2719.0</td>\n",
       "      <td>10.304545</td>\n",
       "      <td>0.601052</td>\n",
       "      <td>6.907755</td>\n",
       "      <td>9.903487</td>\n",
       "      <td>10.308952</td>\n",
       "      <td>10.714417</td>\n",
       "      <td>13.304685</td>\n",
       "    </tr>\n",
       "    <tr>\n",
       "      <th>2.0</th>\n",
       "      <td>1870.0</td>\n",
       "      <td>10.082315</td>\n",
       "      <td>0.809919</td>\n",
       "      <td>5.192957</td>\n",
       "      <td>9.615806</td>\n",
       "      <td>9.998797</td>\n",
       "      <td>10.518673</td>\n",
       "      <td>13.815511</td>\n",
       "    </tr>\n",
       "    <tr>\n",
       "      <th rowspan=\"3\" valign=\"top\">1.0</th>\n",
       "      <th>0.0</th>\n",
       "      <td>37.0</td>\n",
       "      <td>10.476204</td>\n",
       "      <td>0.464423</td>\n",
       "      <td>9.615806</td>\n",
       "      <td>10.126631</td>\n",
       "      <td>10.491274</td>\n",
       "      <td>10.680516</td>\n",
       "      <td>11.156251</td>\n",
       "    </tr>\n",
       "    <tr>\n",
       "      <th>1.0</th>\n",
       "      <td>246.0</td>\n",
       "      <td>10.268410</td>\n",
       "      <td>0.598444</td>\n",
       "      <td>8.517193</td>\n",
       "      <td>9.903487</td>\n",
       "      <td>10.239960</td>\n",
       "      <td>10.596635</td>\n",
       "      <td>13.592367</td>\n",
       "    </tr>\n",
       "    <tr>\n",
       "      <th>2.0</th>\n",
       "      <td>412.0</td>\n",
       "      <td>10.013085</td>\n",
       "      <td>0.834956</td>\n",
       "      <td>6.033086</td>\n",
       "      <td>9.615806</td>\n",
       "      <td>9.998797</td>\n",
       "      <td>10.463103</td>\n",
       "      <td>12.873902</td>\n",
       "    </tr>\n",
       "  </tbody>\n",
       "</table>\n",
       "</div>"
      ],
      "text/plain": [
       "                               lnearnings                                 \\\n",
       "                                    count       mean       std       min   \n",
       "marital_status parental_status                                             \n",
       "0.0            0.0                  572.0  10.468802  0.400648  9.210340   \n",
       "               1.0                 2719.0  10.304545  0.601052  6.907755   \n",
       "               2.0                 1870.0  10.082315  0.809919  5.192957   \n",
       "1.0            0.0                   37.0  10.476204  0.464423  9.615806   \n",
       "               1.0                  246.0  10.268410  0.598444  8.517193   \n",
       "               2.0                  412.0  10.013085  0.834956  6.033086   \n",
       "\n",
       "                                                                            \n",
       "                                      25%        50%        75%        max  \n",
       "marital_status parental_status                                              \n",
       "0.0            0.0              10.203592  10.463103  10.736397  12.206073  \n",
       "               1.0               9.903487  10.308952  10.714417  13.304685  \n",
       "               2.0               9.615806   9.998797  10.518673  13.815511  \n",
       "1.0            0.0              10.126631  10.491274  10.680516  11.156251  \n",
       "               1.0               9.903487  10.239960  10.596635  13.592367  \n",
       "               2.0               9.615806   9.998797  10.463103  12.873902  "
      ]
     },
     "execution_count": 16,
     "metadata": {},
     "output_type": "execute_result"
    }
   ],
   "source": [
    "data[['marital_status','parental_status','lnearnings']].groupby(['marital_status','parental_status']).describe()"
   ]
  },
  {
   "cell_type": "markdown",
   "metadata": {},
   "source": [
    "<img src=\"https://github.com/szuminyu/Motherhood_Penalty_Taiwan/blob/master/boxplot.png?raw=true\" width=\"600\" />"
   ]
  },
  {
   "cell_type": "markdown",
   "metadata": {},
   "source": [
    "According to the box plot I use in my thesis, the mean of log earnings from previously married non-mothers earn more than any other groups in average. They don't have child responsibilities, nor do they get annoyed by husbands. Very interesting.\n",
    "However, previously married mothers with adult children earn less than any other groups in average.\n",
    "\n",
    "The following chart shows the correlation between my independent, dependent, and control variables."
   ]
  },
  {
   "cell_type": "code",
   "execution_count": 17,
   "metadata": {},
   "outputs": [
    {
     "data": {
      "text/html": [
       "<div>\n",
       "<style scoped>\n",
       "    .dataframe tbody tr th:only-of-type {\n",
       "        vertical-align: middle;\n",
       "    }\n",
       "\n",
       "    .dataframe tbody tr th {\n",
       "        vertical-align: top;\n",
       "    }\n",
       "\n",
       "    .dataframe thead th {\n",
       "        text-align: right;\n",
       "    }\n",
       "</style>\n",
       "<table border=\"1\" class=\"dataframe\">\n",
       "  <thead>\n",
       "    <tr style=\"text-align: right;\">\n",
       "      <th></th>\n",
       "      <th>lnearnings</th>\n",
       "      <th>marital_status</th>\n",
       "      <th>parental_status</th>\n",
       "      <th>age</th>\n",
       "      <th>educ</th>\n",
       "      <th>seniority</th>\n",
       "      <th>workhour</th>\n",
       "    </tr>\n",
       "  </thead>\n",
       "  <tbody>\n",
       "    <tr>\n",
       "      <th>lnearnings</th>\n",
       "      <td>1.000000</td>\n",
       "      <td>-0.053448</td>\n",
       "      <td>-0.196113</td>\n",
       "      <td>-0.151999</td>\n",
       "      <td>0.536847</td>\n",
       "      <td>0.111284</td>\n",
       "      <td>0.094532</td>\n",
       "    </tr>\n",
       "    <tr>\n",
       "      <th>marital_status</th>\n",
       "      <td>-0.053448</td>\n",
       "      <td>1.000000</td>\n",
       "      <td>0.145134</td>\n",
       "      <td>0.178302</td>\n",
       "      <td>-0.156775</td>\n",
       "      <td>0.054856</td>\n",
       "      <td>0.048243</td>\n",
       "    </tr>\n",
       "    <tr>\n",
       "      <th>parental_status</th>\n",
       "      <td>-0.196113</td>\n",
       "      <td>0.145134</td>\n",
       "      <td>1.000000</td>\n",
       "      <td>0.747906</td>\n",
       "      <td>-0.528544</td>\n",
       "      <td>0.368014</td>\n",
       "      <td>0.025447</td>\n",
       "    </tr>\n",
       "    <tr>\n",
       "      <th>age</th>\n",
       "      <td>-0.151999</td>\n",
       "      <td>0.178302</td>\n",
       "      <td>0.747906</td>\n",
       "      <td>1.000000</td>\n",
       "      <td>-0.505217</td>\n",
       "      <td>0.522783</td>\n",
       "      <td>-0.006971</td>\n",
       "    </tr>\n",
       "    <tr>\n",
       "      <th>educ</th>\n",
       "      <td>0.536847</td>\n",
       "      <td>-0.156775</td>\n",
       "      <td>-0.528544</td>\n",
       "      <td>-0.505217</td>\n",
       "      <td>1.000000</td>\n",
       "      <td>-0.093183</td>\n",
       "      <td>-0.142207</td>\n",
       "    </tr>\n",
       "    <tr>\n",
       "      <th>seniority</th>\n",
       "      <td>0.111284</td>\n",
       "      <td>0.054856</td>\n",
       "      <td>0.368014</td>\n",
       "      <td>0.522783</td>\n",
       "      <td>-0.093183</td>\n",
       "      <td>1.000000</td>\n",
       "      <td>0.003878</td>\n",
       "    </tr>\n",
       "    <tr>\n",
       "      <th>workhour</th>\n",
       "      <td>0.094532</td>\n",
       "      <td>0.048243</td>\n",
       "      <td>0.025447</td>\n",
       "      <td>-0.006971</td>\n",
       "      <td>-0.142207</td>\n",
       "      <td>0.003878</td>\n",
       "      <td>1.000000</td>\n",
       "    </tr>\n",
       "  </tbody>\n",
       "</table>\n",
       "</div>"
      ],
      "text/plain": [
       "                 lnearnings  marital_status  parental_status       age  \\\n",
       "lnearnings         1.000000       -0.053448        -0.196113 -0.151999   \n",
       "marital_status    -0.053448        1.000000         0.145134  0.178302   \n",
       "parental_status   -0.196113        0.145134         1.000000  0.747906   \n",
       "age               -0.151999        0.178302         0.747906  1.000000   \n",
       "educ               0.536847       -0.156775        -0.528544 -0.505217   \n",
       "seniority          0.111284        0.054856         0.368014  0.522783   \n",
       "workhour           0.094532        0.048243         0.025447 -0.006971   \n",
       "\n",
       "                     educ  seniority  workhour  \n",
       "lnearnings       0.536847   0.111284  0.094532  \n",
       "marital_status  -0.156775   0.054856  0.048243  \n",
       "parental_status -0.528544   0.368014  0.025447  \n",
       "age             -0.505217   0.522783 -0.006971  \n",
       "educ             1.000000  -0.093183 -0.142207  \n",
       "seniority       -0.093183   1.000000  0.003878  \n",
       "workhour        -0.142207   0.003878  1.000000  "
      ]
     },
     "execution_count": 17,
     "metadata": {},
     "output_type": "execute_result"
    }
   ],
   "source": [
    "data_sub = data.loc[:, ['lnearnings','marital_status', 'parental_status', 'age', 'educ', 'seniority','workhour']]\n",
    "data_sub.corr()"
   ]
  },
  {
   "cell_type": "markdown",
   "metadata": {},
   "source": [
    "### Modeling\n",
    "\n",
    "I applied OLS regression (linear regression) and fixed-effects models in my thesis. However, in this notebook, I will only demonstrate multivariate linear regression. Also, I am going to control age, education, seniority, and working hours here.\n",
    "\n",
    "If you are interested in the full models in my thesis, please click the link and check out the whole paper."
   ]
  },
  {
   "cell_type": "code",
   "execution_count": 18,
   "metadata": {},
   "outputs": [
    {
     "name": "stdout",
     "output_type": "stream",
     "text": [
      "(5856, 6) (5856, 1)\n"
     ]
    }
   ],
   "source": [
    "from sklearn.linear_model import LinearRegression\n",
    "from sklearn.model_selection import train_test_split\n",
    "from sklearn.metrics import mean_squared_error\n",
    "\n",
    "X = data.loc[:, ['marital_status', 'parental_status', 'age', 'educ', 'seniority','workhour']]\n",
    "y = data.loc[:, ['lnearnings']]\n",
    "\n",
    "print(X.shape, y.shape)"
   ]
  },
  {
   "cell_type": "code",
   "execution_count": 45,
   "metadata": {},
   "outputs": [
    {
     "name": "stdout",
     "output_type": "stream",
     "text": [
      "R Square: 0.34985583388834196\n"
     ]
    }
   ],
   "source": [
    "#split\n",
    "X_train, X_test, y_train, y_test = train_test_split(X, y, test_size = 0.2)\n",
    "\n",
    "#Modeling\n",
    "\n",
    "lr = LinearRegression()\n",
    "lr.fit(X_train, y_train)\n",
    "\n",
    "#Print R^2\n",
    "print('R Square:',lr.score(X_train, y_train))"
   ]
  },
  {
   "cell_type": "code",
   "execution_count": 44,
   "metadata": {},
   "outputs": [
    {
     "name": "stdout",
     "output_type": "stream",
     "text": [
      "Mean Squared Error 0.29703432829671894\n"
     ]
    }
   ],
   "source": [
    "y_pred_lr= lr.predict(X_test)\n",
    "print('Mean Squared Error', mean_squared_error(y_pred_lr, y_test))"
   ]
  },
  {
   "cell_type": "code",
   "execution_count": 42,
   "metadata": {},
   "outputs": [
    {
     "data": {
      "text/plain": [
       "Text(0.5, 1.0, 'Residual Plot using Test Set')"
      ]
     },
     "execution_count": 42,
     "metadata": {},
     "output_type": "execute_result"
    },
    {
     "data": {
      "image/png": "[encoded data removed]",
      "text/plain": [
       "<Figure size 432x288 with 1 Axes>"
      ]
     },
     "metadata": {},
     "output_type": "display_data"
    }
   ],
   "source": [
    "plt.scatter(lr.predict(X_test), lr.predict(X_test)- y_test)\n",
    "plt.ylabel('Residuls')\n",
    "plt.title('Residual Plot using Test Set')"
   ]
  },
  {
   "attachments": {},
   "cell_type": "markdown",
   "metadata": {},
   "source": [
    "$R^2$ is only around 0.35, which is not good. Actually it make sense. According to the assumptions of linear regression, the relationship of X and Y should be linear, which is violated since my predictors are binary and ordinal variables. Also, residual plot shows that residual is not normally distributed.\n",
    "\n",
    "Therefore, I use OLS regression as the sensitivity test in my thesis rather than the main model. I use fixed-effects model for this panel dataset to align with the characteristics of the panel data. FE model controls for part of self-selection problem, which means maternal earnings may change because women choose to have child(children) late. That is - the timing of motherhood and the self selection into motherhood or not. Women who choose to get married or become a mother are already different on characteristics that affect earnings. Therefore, FE model compares women with themselves from different years. It can capture the change of earnings and eliminate all time-invariant factors."
   ]
  }
 ],
 "metadata": {
  "kernelspec": {
   "display_name": "Python 3",
   "language": "python",
   "name": "python3"
  },
  "language_info": {
   "codemirror_mode": {
    "name": "ipython",
    "version": 3
   },
   "file_extension": ".py",
   "mimetype": "text/x-python",
   "name": "python",
   "nbconvert_exporter": "python",
   "pygments_lexer": "ipython3",
   "version": "3.6.8"
  }
 },
 "nbformat": 4,
 "nbformat_minor": 2
}
